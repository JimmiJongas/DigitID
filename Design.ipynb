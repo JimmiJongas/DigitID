{
 "metadata": {
  "name": "",
  "signature": "sha256:7661744af5a9ff186a088a8c5d5b1f89f2f3852efbb533654ae597b008c0c0dd"
 },
 "nbformat": 3,
 "nbformat_minor": 0,
 "worksheets": [
  {
   "cells": [
    {
     "cell_type": "markdown",
     "metadata": {},
     "source": [
      "# Object-oriented Neural Network Design \n",
      "\n",
      "We want a nice framework for doing neural network training \n",
      "\n",
      "__`NeuralNetwork`__ class is the brains of the operation.  Below, `X` is the \n",
      "  \n",
      "- Members: \n",
      "  - `architecture`: list of numbers, each representing the number of nodes in that layer\n",
      "  - `layers`: list of `Layer` objects which represent the layers\n",
      "\n",
      "- Methods: \n",
      "  - `feedForward(X)`: feed-forward the neural net to return y given the input example(s) X and the currently stored $\\theta_i$ for each layer. \n",
      "  - `backPropagate(X, y)`: back-propagate to produce gradients given `y` and `X`.  Not clear whether it makes sense to pass in `Y` or just have this method call feed-forward. ___Note:___ training depends on current state of $\\theta$, so it must be updated each time. \n",
      "  - `reload(allThetas)`: load in the pre-trained thetas so that feed-forward can be called\n",
      "  - `initialize()`: randomly initialize thetas in each layer, good for training. \n",
      "  - `train(minimizer, alpha, lambda)`: train the neural using `minimizer` with learning rate `alpha` and regularization factor `lambda`\n",
      "  - `cost(unrolledTheta)`: re-shape `unrolledTheta` into matrices and update the layers (probably through `reload()`)... then do back-prop (which requries feed-forward.)\n",
      "\n",
      "\n",
      "__`Layer`__ class is the container for layers.  \n",
      "\n",
      "Layer is a wrapper for a matrix.  Needs to know: number of inputs $$, number of nodes. \n",
      "\n",
      "- Members:\n",
      "  - `theta`\n",
      "  \n",
      "- Methods: \n",
      "  - `thetaWithBias`: return theta but with the bias row added\n",
      "  - Other things to help with the bias term.  Details to come.\n",
      "\n"
     ]
    },
    {
     "cell_type": "code",
     "collapsed": false,
     "input": [],
     "language": "python",
     "metadata": {},
     "outputs": []
    }
   ],
   "metadata": {}
  }
 ]
}